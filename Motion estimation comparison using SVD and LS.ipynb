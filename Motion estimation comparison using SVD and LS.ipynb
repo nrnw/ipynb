{
 "cells": [
  {
   "cell_type": "markdown",
   "metadata": {},
   "source": [
    "### Let $x_k$ and $x_{k_1}$ be two sets of corresponding points w.r.t frame 1 and 2. We wish to find a rigid transformation between frame 1 and frame 2."
   ]
  },
  {
   "cell_type": "markdown",
   "metadata": {},
   "source": [
    "$\\overline{x_k}$ and $\\overline{x_{k_1}}$ are the means of the set of points.\n",
    "\n",
    "Then the rotation w.r.t frame2 to frame1 given as\n",
    "$$R=VU^T$$\n",
    "\n",
    "Where $$USV=svd [(x_k-\\overline{x_k})(x_{k_1}-\\overline{x_{k_1}})^T]$$\n",
    "\n",
    "Then the translation is given by,\n",
    "$$t=\\overline{x_{k_1}}-R\\overline{x_k}$$"
   ]
  },
  {
   "cell_type": "code",
   "execution_count": 30,
   "metadata": {},
   "outputs": [
    {
     "name": "stdout",
     "output_type": "stream",
     "text": [
      "xk =\n",
      "\n",
      " Columns 1 through 8:\n",
      "\n",
      "   5.55971   0.54527   8.37545   1.84571   2.60079   2.95660   3.22924   1.85329\n",
      "   1.54147   5.96533   3.30466   9.79157   5.44564   0.48077   4.36175   3.81806\n",
      "   8.27458   1.11578   5.16967   3.01217   8.66869   2.73455   4.52364   0.32863\n",
      "   1.00000   1.00000   1.00000   1.00000   1.00000   1.00000   1.00000   1.00000\n",
      "\n",
      " Columns 9 and 10:\n",
      "\n",
      "   1.59554   3.01388\n",
      "   1.20066   8.70180\n",
      "   7.26410   6.52968\n",
      "   1.00000   1.00000\n",
      "\n",
      "xk1 =\n",
      "\n",
      " Columns 1 through 7:\n",
      "\n",
      "   4.250958   1.226466   7.450776   3.997350   3.108506   1.290998   3.138881\n",
      "   1.713231   5.283575   1.192977   8.689144   6.372158   0.087005   3.905168\n",
      "   7.289194  -1.317119   4.100428  -0.509730   6.220429   2.075059   2.661737\n",
      "   1.000000   1.000000   1.000000   1.000000   1.000000   1.000000   1.000000\n",
      "\n",
      " Columns 8 through 10:\n",
      "\n",
      "   1.546584   0.454392   4.728687\n",
      "   2.668494   2.640696   8.378191\n",
      "  -1.303375   6.033122   3.270944\n",
      "   1.000000   1.000000   1.000000\n",
      "\n",
      "xk1 with noise\n",
      "xk1 =\n",
      "\n",
      " Columns 1 through 7:\n",
      "\n",
      "   3.093783   2.089888   7.124214   4.820604   1.999724   2.083832   4.372294\n",
      "   1.810064   5.730717   2.594711   9.491422   6.492870  -0.621913   3.195765\n",
      "   7.022263  -0.028011   4.119065  -1.698253   6.340983  -0.251000   3.879210\n",
      "   1.000000   1.000000   1.000000   1.000000   1.000000   1.000000   1.000000\n",
      "\n",
      " Columns 8 through 10:\n",
      "\n",
      "   1.043174   1.015198   4.034301\n",
      "   1.566206   3.440103   7.266238\n",
      "   2.288303   6.552638   2.439703\n",
      "   1.000000   1.000000   1.000000\n",
      "\n",
      "Ek_using_SVD =\n",
      "\n",
      "   0.92854  -0.32555   0.17838   1.00284\n",
      "   0.36767   0.87280  -0.32100   0.70533\n",
      "  -0.05119   0.36365   0.93013   0.58233\n",
      "   0.00000   0.00000   0.00000   1.00000\n",
      "\n",
      "Ek_using_least_squares =\n",
      "\n",
      "   1.01050  -0.32643   0.27712   0.44405\n",
      "   0.18698   0.82968  -0.25367   1.24785\n",
      "   0.20999   0.30050   0.85070   0.25729\n",
      "   0.00000   0.00000   0.00000   1.00000\n",
      "\n",
      "Ek_original =\n",
      "\n",
      "   0.91646  -0.38747   0.09983   1.60000\n",
      "   0.39920   0.86843  -0.29404   0.50000\n",
      "   0.02724   0.30933   0.95056   0.70000\n",
      "   0.00000   0.00000   0.00000   1.00000\n",
      "\n"
     ]
    }
   ],
   "source": [
    "clear all\n",
    "close all\n",
    "\n",
    "# These are the functions related to rotation and translaton about x,y,z axis\n",
    "function y=Trans(a,b,c)\n",
    "  y=[1 0 0 a;0 1 0 b;0 0 1 c;0 0 0 1];\n",
    "end\n",
    "\n",
    "function y=Rotx(k)\n",
    "  y=[1 0 0 0;0 cos(k) -sin(k) 0;0 sin(k) cos(k) 0;0 0 0 1];\n",
    "end\n",
    "\n",
    "function y=Roty(k)\n",
    "  y=[cos(k) 0 sin(k) 0;0 1 0 0;-sin(k) 0 cos(k) 0;0 0 0 1];\n",
    "end\n",
    "\n",
    "function y=Rotz(k)\n",
    "  y=[cos(k) -sin(k) 0 0;sin(k) cos(k) 0 0;0 0 1 0;0 0 0 1];\n",
    "end\n",
    "\n",
    "#--------------------------------------------------------------------------------------------------------\n",
    "#calclating an arbitrary homogeneous trasformation\n",
    "H21=Trans(1.6,0.5,0.7)*Rotx(0.3)*Roty(0.1)*Rotz(0.4);#transformation frame 1 to frame 2\n",
    "#H21=Rotx(0.8);#frame 1 to frame 2 (w.r.t 1)\n",
    "\n",
    "#finding the inverse of the above homogeneous transform\n",
    "r=[[H21(1,1:3)];[H21(2,1:3)];[H21(3,1:3)]];\n",
    "d=[[H21(1,4)];[H21(2,4)];[H21(3,4)]];\n",
    "H12=vertcat(horzcat(r',-r'*d),[0 0 0 1]);#transformation frame 2 to frame 1\n",
    "\n",
    "N=10; #enter number of points need to generate\n",
    "r1=rand(3,N)*10; #generate N number of points\n",
    "r2=ones(1,length(r1));\n",
    "xk=vertcat(r1,r2)\n",
    "\n",
    "\n",
    "xk1=H12*xk #same point coordinates w.r.t frame2\n",
    "\n",
    "#adding noise to the frame 2 coordinates\n",
    "noise=randn(3,length(xk1(1,:)));\n",
    "noise=vertcat(noise,zeros(1,length(xk1(1,:))));\n",
    "disp(\"xk1 with noise\")\n",
    "xk1=xk1.+noise\n",
    "\n",
    "#--------------------------------------------------------------------------------------------------------\n",
    "\n",
    "#compute mean\n",
    "xk_m=[mean(xk(1,:));mean(xk(2,:));mean(xk(3,:))];\n",
    "xk1_m=[mean(xk1(1,:));mean(xk1(2,:));mean(xk1(3,:))];\n",
    "\n",
    "#compute centered vectors\n",
    "X=(xk(1:3,:)-xk_m);\n",
    "Y=(xk1(1:3,:)-xk1_m);\n",
    "\n",
    "#compute covarience matrix\n",
    "CV=X*Y';\n",
    "\n",
    "#compute singular value decomposition\n",
    "[U, S, V] =svd(CV);\n",
    "#copute rotation\n",
    " rot=V*U';\n",
    "#compute translation\n",
    " trans=xk1_m-rot*xk_m;\n",
    " \n",
    " \n",
    " \n",
    "Ek_using_SVD=vertcat(horzcat(rot,trans),[0 0 0 1]); #this is the transformation frame2 to frame1\n",
    "Ek_using_SVD=inv(Ek_using_SVD) #transformation frame1 to frame2\n",
    "#-------------------------------------------------------------------------------------------------------\n",
    "\n",
    "Ek_using_least_squares=(xk*xk1')*inv(xk1*(xk1'))\n",
    "\n",
    "Ek_original = H21\n"
   ]
  },
  {
   "cell_type": "code",
   "execution_count": 33,
   "metadata": {},
   "outputs": [
    {
     "data": {
      "image/png": "[encoded data removed]",
      "text/plain": [
       "<IPython.core.display.Image object>"
      ]
     },
     "metadata": {},
     "output_type": "display_data"
    }
   ],
   "source": [
    "#comparing all 12 elements of calculated Ek with original Ek\n",
    "SVD=[Ek_using_SVD(1,:) Ek_using_SVD(2,:) Ek_using_SVD(3,:)];\n",
    "LS=[Ek_using_least_squares(1,:) Ek_using_least_squares(2,:) Ek_using_least_squares(3,:)];\n",
    "Original=[Ek_original(1,:) Ek_original(2,:) Ek_original(3,:)];\n",
    "\n",
    "plot(SVD,'c','LineWidth',1)\n",
    "hold on\n",
    "plot(LS,'g','LineWidth',1)\n",
    "plot(Original,'m','LineWidth',1)\n",
    "legend('SVD','LS','Original')"
   ]
  }
 ],
 "metadata": {
  "kernelspec": {
   "display_name": "Octave",
   "language": "octave",
   "name": "octave"
  },
  "language_info": {
   "file_extension": ".m",
   "help_links": [
    {
     "text": "GNU Octave",
     "url": "https://www.gnu.org/software/octave/support.html"
    },
    {
     "text": "Octave Kernel",
     "url": "https://github.com/Calysto/octave_kernel"
    },
    {
     "text": "MetaKernel Magics",
     "url": "https://github.com/calysto/metakernel/blob/master/metakernel/magics/README.md"
    }
   ],
   "mimetype": "text/x-octave",
   "name": "octave",
   "version": "4.0.0"
  }
 },
 "nbformat": 4,
 "nbformat_minor": 2
}
