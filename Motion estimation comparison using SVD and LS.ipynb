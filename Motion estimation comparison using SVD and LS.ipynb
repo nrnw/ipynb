{
 "cells": [
  {
   "cell_type": "markdown",
   "metadata": {},
   "source": [
    "### Let $xk$ and $xk1$ be two sets of corresponding points w.r.t frame 1 and 2. We wish to find a rigid transformation between frame 1 and frame 2."
   ]
  },
  {
   "cell_type": "code",
   "execution_count": 83,
   "metadata": {},
   "outputs": [
    {
     "name": "stdout",
     "output_type": "stream",
     "text": [
      "xk =\n",
      "\n",
      " Columns 1 through 8:\n",
      "\n",
      "   4.52035   2.78222   1.95544   5.10142   0.73666   0.79699   8.94649   7.75203\n",
      "   8.41524   2.41950   9.49619   8.58925   7.66790   6.99002   7.62839   2.04761\n",
      "   2.42665   1.18426   3.34620   1.09662   4.96084   4.82200   8.58312   1.42273\n",
      "   1.00000   1.00000   1.00000   1.00000   1.00000   1.00000   1.00000   1.00000\n",
      "\n",
      " Columns 9 and 10:\n",
      "\n",
      "   6.21883   1.71048\n",
      "   3.55273   9.58790\n",
      "   5.24348   0.42836\n",
      "   1.00000   1.00000\n",
      "\n",
      "xk1 =\n",
      "\n",
      " Columns 1 through 7:\n",
      "\n",
      "   5.883163   1.862909   3.989095   6.448936   2.186251   1.967154   9.793108\n",
      "   6.276418   1.358679   8.493431   5.790962   7.877392   7.222366   5.782484\n",
      "  -0.394586   0.013933  -0.094411  -1.652018   1.856332   1.929704   6.130770\n",
      "   1.000000   1.000000   1.000000   1.000000   1.000000   1.000000   1.000000\n",
      "\n",
      " Columns 8 through 10:\n",
      "\n",
      "   6.275572   5.575359   3.721741\n",
      "  -0.816179   2.266873   7.765409\n",
      "   0.846110   3.882343  -2.919420\n",
      "   1.000000   1.000000   1.000000\n",
      "\n",
      "noise =\n",
      "\n",
      " Columns 1 through 7:\n",
      "\n",
      "  -0.109894  -0.227232   1.291025   1.052518  -0.541570  -0.058307  -0.122020\n",
      "   1.642387  -1.055797  -1.376780  -0.839828  -0.984041  -0.825260  -0.696630\n",
      "   0.178949  -0.317392   0.445579   0.757137   0.146747  -0.921795   0.449235\n",
      "\n",
      " Columns 8 through 10:\n",
      "\n",
      "  -0.446700   0.607358  -0.313846\n",
      "  -0.578022  -1.808939   0.368955\n",
      "  -0.146686   2.429020   0.547298\n",
      "\n",
      "Ek_using_SVD =\n",
      "\n",
      "   0.91117  -0.38167   0.15524   1.14850\n",
      "   0.40847   0.88617  -0.21876   0.86845\n",
      "  -0.05408   0.26274   0.96335   1.14208\n",
      "   0.00000   0.00000   0.00000   1.00000\n",
      "\n",
      "Ek_using_least_squres =\n",
      "\n",
      "   8.4431e-01  -3.6322e-01   6.1334e-02   1.5141e+00\n",
      "   2.8986e-01   7.7375e-01  -1.1119e-01   1.8216e+00\n",
      "  -1.0829e-01   2.9225e-01   9.1306e-01   1.3377e+00\n",
      "  -2.2204e-16  -5.5511e-17   6.0715e-17   1.0000e+00\n",
      "\n",
      "Ek_original =\n",
      "\n",
      "   0.91646  -0.38747   0.09983   1.60000\n",
      "   0.39920   0.86843  -0.29404   0.50000\n",
      "   0.02724   0.30933   0.95056   0.70000\n",
      "   0.00000   0.00000   0.00000   1.00000\n",
      "\n"
     ]
    }
   ],
   "source": [
    "clear all\n",
    "close all\n",
    "\n",
    "# These are the functions related to rotation and translaton about x,y,z axis\n",
    "function y=Trans(a,b,c)\n",
    "  y=[1 0 0 a;0 1 0 b;0 0 1 c;0 0 0 1];\n",
    "end\n",
    "\n",
    "function y=Rotx(k)\n",
    "  y=[1 0 0 0;0 cos(k) -sin(k) 0;0 sin(k) cos(k) 0;0 0 0 1];\n",
    "end\n",
    "\n",
    "function y=Roty(k)\n",
    "  y=[cos(k) 0 sin(k) 0;0 1 0 0;-sin(k) 0 cos(k) 0;0 0 0 1];\n",
    "end\n",
    "\n",
    "function y=Rotz(k)\n",
    "  y=[cos(k) -sin(k) 0 0;sin(k) cos(k) 0 0;0 0 1 0;0 0 0 1];\n",
    "end\n",
    "\n",
    "#--------------------------------------------------------------------------------------------------------\n",
    "#calclating an arbitrary homogeneous trasformation\n",
    "H21=Trans(1.6,0.5,0.7)*Rotx(0.3)*Roty(0.1)*Rotz(0.4);#transformation frame 1 to frame 2\n",
    "#H21=Rotx(0.8);#frame 1 to frame 2 (w.r.t 1)\n",
    "\n",
    "#finding the inverse of the above homogeneous transform\n",
    "r=[[H21(1,1:3)];[H21(2,1:3)];[H21(3,1:3)]];\n",
    "d=[[H21(1,4)];[H21(2,4)];[H21(3,4)]];\n",
    "H12=vertcat(horzcat(r',-r'*d),[0 0 0 1]);#transformation frame 2 to frame 1\n",
    "\n",
    "N=10; #enter number of points need to generate\n",
    "r1=rand(3,N)*10; #generate N number of points\n",
    "r2=ones(1,length(r1));\n",
    "xk=vertcat(r1,r2)\n",
    "\n",
    "\n",
    "xk1=H12*xk #same point coordinates w.r.t frame2\n",
    "\n",
    "#adding noise to the frame 2 coordinates\n",
    "noise=randn(3,length(xk1(1,:)))\n",
    "noise=vertcat(noise,zeros(1,length(xk1(1,:))));\n",
    "xk1=xk1.+noise;\n",
    "\n",
    "#--------------------------------------------------------------------------------------------------------\n",
    "\n",
    "#compute mean\n",
    "xk_m=[mean(xk(1,:));mean(xk(2,:));mean(xk(3,:))];\n",
    "xk1_m=[mean(xk1(1,:));mean(xk1(2,:));mean(xk1(3,:))];\n",
    "\n",
    "#compute centered vectors\n",
    "X=(xk(1:3,:)-xk_m);\n",
    "Y=(xk1(1:3,:)-xk1_m);\n",
    "\n",
    "#compute covarience matrix\n",
    "CV=X*Y';\n",
    "\n",
    "#compute singular value decomposition\n",
    "[U, S, V] =svd(CV);\n",
    "#copute rotation\n",
    " rot=V*U';\n",
    "#compute translation\n",
    " trans=xk1_m-rot*xk_m;\n",
    " \n",
    " \n",
    " \n",
    "Ek_using_SVD=vertcat(horzcat(rot,trans),[0 0 0 1]); #this is the transformation frame2 to frame1\n",
    "Ek_using_SVD=inv(Ek_using_SVD) #transformation frame1 to frame2\n",
    "#-------------------------------------------------------------------------------------------------------\n",
    "\n",
    "Ek_using_least_squres=(xk*xk1')*inv(xk1*(xk1'))\n",
    "\n",
    "Ek_original = H21\n"
   ]
  },
  {
   "cell_type": "code",
   "execution_count": 84,
   "metadata": {},
   "outputs": [
    {
     "data": {
      "image/png": "[encoded data removed]",
      "text/plain": [
       "<IPython.core.display.Image object>"
      ]
     },
     "metadata": {},
     "output_type": "display_data"
    }
   ],
   "source": [
    "#comparing all 12 elements of calculated Ek with original Ek\n",
    "SVD=[Ek_using_SVD(1,:) Ek_using_SVD(2,:) Ek_using_SVD(3,:)];\n",
    "LS=[Ek_using_least_squres(1,:) Ek_using_least_squres(2,:) Ek_using_least_squres(3,:)];\n",
    "Original=[Ek_original(1,:) Ek_original(2,:) Ek_original(3,:)];\n",
    "\n",
    "plot(SVD,'c','LineWidth',1)\n",
    "hold on\n",
    "plot(LS,'g','LineWidth',1)\n",
    "plot(Original,'m','LineWidth',1)\n",
    "legend('SVD','LS1','Original')"
   ]
  }
 ],
 "metadata": {
  "kernelspec": {
   "display_name": "Octave",
   "language": "octave",
   "name": "octave"
  },
  "language_info": {
   "file_extension": ".m",
   "help_links": [
    {
     "text": "GNU Octave",
     "url": "https://www.gnu.org/software/octave/support.html"
    },
    {
     "text": "Octave Kernel",
     "url": "https://github.com/Calysto/octave_kernel"
    },
    {
     "text": "MetaKernel Magics",
     "url": "https://github.com/calysto/metakernel/blob/master/metakernel/magics/README.md"
    }
   ],
   "mimetype": "text/x-octave",
   "name": "octave",
   "version": "4.0.0"
  }
 },
 "nbformat": 4,
 "nbformat_minor": 2
}
